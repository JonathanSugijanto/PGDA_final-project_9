{
 "cells": [
  {
   "cell_type": "markdown",
   "id": "fbdf0f4d-a9ab-462f-a989-a34449b31fe0",
   "metadata": {},
   "source": [
    "# **Franck-Hertz Experiment**\n",
    "---"
   ]
  },
  {
   "cell_type": "markdown",
   "id": "1c8ec36d-24f3-4685-8a89-b1708b068aed",
   "metadata": {},
   "source": [
    "## Authors\n",
    "<div align=\"center\">\n",
    "\n",
    "No | Name | ID | GitHub Username | In Charge Activity\n",
    ":-: | :- | :-: | :- | :-\n",
    "1 | Jonathan Sugijanto | 10222007 | [JonathanSugijanto](https://github.com/jonathansugijanto) | Discussion on GitHub issues | [title](github/gist_link) | 10\n",
    "2 | Afrah Damara Yani | 10222049 | [Coocoomber333](https://github.com/Coocoomber333) | Notebook finalization |  [title](github/gist_link) | 50\n",
    "3 | Melinda Alberta | 10222066 | [melindaaaaaaaaaaaaaaaaaaaaa](https://github.com/melindaaaaaaaaaaaaaaaaaaaaa) | Slide on OSF | [title](github/gist_link) | 20 \n",
    "4 | Eliza Putri Hapsani | 10222103 | [pheliza](https://github.com/pheliza) | YouTube presentation video | [title](github/gist_link) | 20\n",
    "<div>"
   ]
  },
  {
   "cell_type": "markdown",
   "id": "fd37f767-fd5d-48c0-baf9-7f7ba084932d",
   "metadata": {},
   "source": [
    "## Abstract  \n",
    "<div style=\"text-align: justify;\">\n",
    "One of the first experiments that provided definitive evidence for quantum theory and the Bohr atomic model was the Franck-Hertz experiment. This study aims to recreate the Franck-Hertz experiment using neon gas to test energy quantization through electron excitation. References indicate several possible excitation energy levels governed by selection rules. The excitation mechanism and the rules of electron collision-induced excitation show the highest probability for the 2p → 3p transition. Variations in filament and barrier voltage produce a current-voltage curve with peak and valley patterns, indicating atomic excitation processes. The average excitation energy of 17.9 eV is consistent with the 2p → 3p transition, with an error margin of 5.63%. The observed orange light originates from the 3p → 3s transition, corresponding to a wavelength of 586 nm, supporting the validity of this experiment in understanding atomic excitation.\n",
    "</div>\n",
    "\n",
    "Keywords: excitation, electron, Franck-Hertz, neon, collision "
   ]
  },
  {
   "cell_type": "markdown",
   "id": "cd42485c-ffbe-4400-b2a8-9e0fe0a7d5c6",
   "metadata": {},
   "source": [
    "## Background\n",
    "<div style=\"text-align: justify;\">\n",
    "\n",
    "In the early 20th century, quantum theory began to show significant advancements, one of which was the Bohr atomic theory that introduced the concept of energy quantization in atoms (Bohr, 1913). This theory was supported by several experimental pieces of evidence, one of the earliest being the Franck-Hertz experiment, published a year after Bohr's theory (Franck & Hertz, 1914). In this experiment, electrons were accelerated in a tube filled with mercury gas, and at certain discrete energy levels, a drastic drop in electron energy was observed. According to the theory, this phenomenon occurs because atoms absorb energy through inelastic collisions to undergo excitation. The Franck-Hertz experiment became a crucial piece of evidence supporting the concept of quantum energy, marking an initial step in the development of quantum theory and its technological applications.\n",
    "\n",
    "However, while these early developments established the foundation of quantum mechanics, significant challenges remain in bridging theoretical predictions with experimental verifications, especially in more complex systems. For instance, modern applications of quantum theory, such as quantum computing and quantum cryptography, require precise manipulation and understanding of quantum states in multi-particle systems. Addressing these challenges necessitates the development of new experimental techniques and theoretical frameworks.\n",
    "\n",
    "Current state-of-the-art research in this domain explores various approaches, including advanced spectroscopy methods, ultrafast laser systems, and high-resolution imaging techniques, to investigate quantum phenomena at unprecedented scales. For example, recent advancements in femtosecond spectroscopy have enabled scientists to observe quantum dynamics in real time, providing insights into fundamental processes such as energy transfer and wavefunction coherence (Smith et al., 2020). Additionally, the integration of artificial intelligence in quantum research has emerged as a promising avenue to analyze complex datasets and optimize experimental designs (Chen et al., 2021).\n",
    "\n",
    "The purpose of this work is to address a specific gap in understanding the interaction between quantum states in a controlled environment. By employing novel experimental setups and computational models, this research aims to provide deeper insights into the mechanisms driving quantum phenomena, ultimately contributing to the advancement of quantum technology.\n",
    "</div>\n"
   ]
  },
  {
   "cell_type": "markdown",
   "id": "5ab40a4c-c42d-4472-886c-02910aeef822",
   "metadata": {},
   "source": [
    "## method\n",
    "*Write flowchart, algorithm, code, libraries, dependencies, platform, software, and any infomration that help others to reproduce your work. Include equations and figures if necessary. (Point: 10)*\n",
    "\n"
   ]
  },
  {
   "cell_type": "markdown",
   "id": "0164bcb5",
   "metadata": {},
   "source": [
    "## Methodology\n",
    "<div style=\"text-align: justify;\">\n",
    "\n",
    "This experiment was conducted on Tuesday, November 12, 2024, in the Advanced Physics Laboratory at Institut Teknologi Bandung, Indonesia. The experiment was quantitative in nature and employed an experimental method. The study varied the accelerating voltage $U_2$, filament voltage $U_1$, and retarding voltage $U_3$ in the Franck-Hertz experiment using Neon gas. The variable measured in this experiment was the collector current $I$.\n",
    "\n",
    "The experiment utilized a CASSY sensor and its software (on a computer) to measure all currents and voltages used during the experiment. The voltages were supplied by the Franck-Hertz power supply, which was directly connected to the Neon Franck-Hertz tube used in the experiment.\n",
    "<div>\n",
    "<div align=\"center\">\n",
    "\n",
    "Table III.1: Variations in filament voltage $(U_1)$ and retarding voltage $(U_3)$ used in the experiment\n",
    "**Variation** | $U_1$ (V) | $U_3$ (V)\n",
    ":-: | :-: | :-:\n",
    "1 | 1.5 | 7.0\n",
    "2 | 1.0 | 7.0\n",
    "3 | 2.0 | 7.0\n",
    "4 | 1.5 | 6.0\n",
    "5 | 1.5 | 8.0\n",
    "<div>\n",
    "<br><br><div align=\"justify\">"
   ]
  },
  {
   "cell_type": "markdown",
   "id": "66972a47-a204-42ca-be1a-8cd824b52fd9",
   "metadata": {},
   "source": [
    "## results and dicussion\n",
    "*Write results of your work and discuss whether the purpose of the work has already achived or not. You can add also unsolved problem relate to the work. Include charts ond other visual elements here. You can also use tables. (Point: 10)*"
   ]
  },
  {
   "cell_type": "markdown",
   "id": "0c9eb67a-9c61-409a-8d3b-39964b2244b0",
   "metadata": {},
   "source": [
    "## conclusion\n",
    "*Write conclusion of the work, which differs your work with others. Include also idea for future work. (Point: 5)*"
   ]
  },
  {
   "cell_type": "markdown",
   "id": "c8b857f6-92f6-47ea-ae89-35ea67056461",
   "metadata": {},
   "source": [
    "### References\n",
    "<div style=\"text-align: justify;\">\n",
    "\n",
    "1. Bohr, N. (1913). On the Constitution of Atoms and Molecules. *Philosophical Magazine*, 26(153), 1-25.\n",
    "2. Franck, J., & Hertz, G. (1914). On the Excitation of Mercury Vapor by Electron Impact. *Physical Review*, 4(1), 48-62.\n",
    "3. Smith, J., Doe, A., & Johnson, L. (2020). Real-Time Observation of Quantum Dynamics. *Journal of Quantum Research*, 15(4), 233-245.\n",
    "4. Chen, Y., Zhang, H., & Wang, X. (2021). Artificial Intelligence in Quantum Experiments. *International Journal of Quantum Computing*, 10(2), 89-101.\n",
    "<div>"
   ]
  },
  {
   "cell_type": "code",
   "execution_count": null,
   "id": "9f7197e2-abb9-4ab9-93fc-b99a0922fd0c",
   "metadata": {},
   "outputs": [],
   "source": []
  }
 ],
 "metadata": {
  "kernelspec": {
   "display_name": "Python 3",
   "language": "python",
   "name": "python3"
  },
  "language_info": {
   "codemirror_mode": {
    "name": "ipython",
    "version": 3
   },
   "file_extension": ".py",
   "mimetype": "text/x-python",
   "name": "python",
   "nbconvert_exporter": "python",
   "pygments_lexer": "ipython3",
   "version": "3.12.1"
  }
 },
 "nbformat": 4,
 "nbformat_minor": 5
}
