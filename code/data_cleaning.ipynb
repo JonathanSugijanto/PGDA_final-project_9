{
 "cells": [
  {
   "cell_type": "code",
   "execution_count": 20,
   "metadata": {},
   "outputs": [
    {
     "ename": "FileNotFoundError",
     "evalue": "[Errno 2] No such file or directory: '../formatted_data/'",
     "output_type": "error",
     "traceback": [
      "\u001b[0;31m---------------------------------------------------------------------------\u001b[0m",
      "\u001b[0;31mFileNotFoundError\u001b[0m                         Traceback (most recent call last)",
      "Cell \u001b[0;32mIn[20], line 37\u001b[0m\n\u001b[1;32m     34\u001b[0m     \u001b[38;5;28;01mreturn\u001b[39;00m filtered_df\n\u001b[1;32m     36\u001b[0m \u001b[38;5;66;03m# Process each file in the folder\u001b[39;00m\n\u001b[0;32m---> 37\u001b[0m \u001b[38;5;28;01mfor\u001b[39;00m file_name \u001b[38;5;129;01min\u001b[39;00m \u001b[43mos\u001b[49m\u001b[38;5;241;43m.\u001b[39;49m\u001b[43mlistdir\u001b[49m\u001b[43m(\u001b[49m\u001b[43minput_directory\u001b[49m\u001b[43m)\u001b[49m:\n\u001b[1;32m     38\u001b[0m     \u001b[38;5;28;01mif\u001b[39;00m file_name\u001b[38;5;241m.\u001b[39mendswith(\u001b[38;5;124m\"\u001b[39m\u001b[38;5;124m.csv\u001b[39m\u001b[38;5;124m\"\u001b[39m):\n\u001b[1;32m     39\u001b[0m         file_path \u001b[38;5;241m=\u001b[39m os\u001b[38;5;241m.\u001b[39mpath\u001b[38;5;241m.\u001b[39mjoin(input_directory, file_name)\n",
      "\u001b[0;31mFileNotFoundError\u001b[0m: [Errno 2] No such file or directory: '../formatted_data/'"
     ]
    }
   ],
   "source": [
    "import os\n",
    "import pandas as pd\n",
    "import numpy as np\n",
    "import matplotlib.pyplot as plt\n",
    "\n",
    "# Input and output directories\n",
    "input_directory = \"../formatted_data/\"\n",
    "output_directory = \"../cleaned_data/\"\n",
    "\n",
    "# Create a folder for cleaned data\n",
    "os.makedirs(output_directory, exist_ok=True)\n",
    "\n",
    "# Function to detect and remove outliers using IQR\n",
    "def remove_outliers(df, x_col, y_col):\n",
    "    # Calculate IQR for x and y columns\n",
    "    Q1_x = df[x_col].quantile(0.25)\n",
    "    Q3_x = df[x_col].quantile(0.75)\n",
    "    IQR_x = Q3_x - Q1_x\n",
    "\n",
    "    Q1_y = df[y_col].quantile(0.25)\n",
    "    Q3_y = df[y_col].quantile(0.75)\n",
    "    IQR_y = Q3_y - Q1_y\n",
    "\n",
    "    # Define bounds for x and y\n",
    "    lower_bound_x = Q1_x - 1.5 * IQR_x\n",
    "    upper_bound_x = Q3_x + 1.5 * IQR_x\n",
    "\n",
    "    lower_bound_y = Q1_y - 1.5 * IQR_y\n",
    "    upper_bound_y = Q3_y + 1.5 * IQR_y\n",
    "\n",
    "    # Filter data within the bounds\n",
    "    filtered_df = df[(df[x_col] >= lower_bound_x) & (df[x_col] <= upper_bound_x) &\n",
    "                     (df[y_col] >= lower_bound_y) & (df[y_col] <= upper_bound_y)]\n",
    "    return filtered_df\n",
    "\n",
    "# Process each file in the folder\n",
    "for file_name in os.listdir(input_directory):\n",
    "    if file_name.endswith(\".csv\"):\n",
    "        file_path = os.path.join(input_directory, file_name)\n",
    "\n",
    "        # Read the CSV file with the correct delimiter\n",
    "        df = pd.read_csv(file_path, delimiter=';')\n",
    "\n",
    "        # Ensure the relevant columns are numeric\n",
    "        df['Acceleration voltage U_B / V'] = pd.to_numeric(df['Acceleration voltage U_B / V'], errors='coerce')\n",
    "        df['Collector current I_A / nA'] = pd.to_numeric(df['Collector current I_A / nA'], errors='coerce')\n",
    "\n",
    "        # Drop rows with NaN values in the relevant columns\n",
    "        df = df.dropna(subset=['Acceleration voltage U_B / V', 'Collector current I_A / nA'])\n",
    "\n",
    "        # Remove outliers\n",
    "        cleaned_df = remove_outliers(df, 'Acceleration voltage U_B / V', 'Collector current I_A / nA')\n",
    "        \n",
    "        # Save the cleaned data\n",
    "        cleaned_file_path = os.path.join(output_directory, file_name)\n",
    "        cleaned_df.to_csv(cleaned_file_path, index=False)\n",
    "        \n",
    "        # Read all cleaned CSV data for verification\n",
    "        df = pd.read_csv(cleaned_file_path)\n",
    "        print(f\"Processed file: {file_name}\")\n",
    "        print(df)\n",
    "\n",
    "print(\"Data cleaning completed. Cleaned files is saved in the 'cleaned_data.ipynb' folder.\")"
   ]
  }
 ],
 "metadata": {
  "kernelspec": {
   "display_name": "Python 3 (ipykernel)",
   "language": "python",
   "name": "python3"
  },
  "language_info": {
   "codemirror_mode": {
    "name": "ipython",
    "version": 3
   },
   "file_extension": ".py",
   "mimetype": "text/x-python",
   "name": "python",
   "nbconvert_exporter": "python",
   "pygments_lexer": "ipython3",
   "version": "3.12.1"
  }
 },
 "nbformat": 4,
 "nbformat_minor": 2
}
